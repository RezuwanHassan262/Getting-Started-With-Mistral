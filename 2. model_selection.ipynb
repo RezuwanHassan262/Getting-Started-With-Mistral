{
 "cells": [
  {
   "cell_type": "markdown",
   "id": "f501ffce-f4f6-4701-8dd3-3ed32a5134ba",
   "metadata": {},
   "source": [
    "# Model Selection"
   ]
  },
  {
   "cell_type": "markdown",
   "id": "bd845946-a8c7-4e06-9ffe-dd893ee5e137",
   "metadata": {},
   "source": [
    "### Get API Key"
   ]
  },
  {
   "cell_type": "code",
   "execution_count": 22,
   "id": "4896b6d5-9e73-4fd1-9fc0-8a7cb93bb750",
   "metadata": {
    "height": 47
   },
   "outputs": [],
   "source": [
    "from helper import load_mistral_api_key\n",
    "api_key, dlai_endpoint = load_mistral_api_key(ret_key=True)"
   ]
  },
  {
   "cell_type": "markdown",
   "id": "d5800f02-c8a0-4e82-a4bd-ce6ddf7a26b7",
   "metadata": {},
   "source": [
    "- Note: in the classroom, if you print out this `api_key` variable, it is not a real API key (for security reasons).\n",
    "- If you wish to run this code on your own machine, outside of the classroom, you can still reuse the code that you see in `helper.py`.\n",
    "- It uses [python-dotenv](https://pypi.org/project/python-dotenv/) library to securely save and load sensitive information such as API keys."
   ]
  },
  {
   "cell_type": "code",
   "execution_count": 23,
   "id": "51403fae-91e9-4e24-9353-02495cb2babc",
   "metadata": {
    "height": 302
   },
   "outputs": [],
   "source": [
    "import os\n",
    "from mistralai.client import MistralClient\n",
    "from mistralai.models.chat_completion import ChatMessage\n",
    "\n",
    "def mistral(user_message, model=\"mistral-small-latest\", is_json=False):\n",
    "    client = MistralClient(api_key=api_key, endpoint=dlai_endpoint)\n",
    "    messages = [ChatMessage(role=\"user\", content=user_message)]\n",
    "\n",
    "    if is_json:\n",
    "        chat_response = client.chat(\n",
    "            model=model, messages=messages, response_format={\"type\": \"json_object\"}\n",
    "        )\n",
    "    else:\n",
    "        chat_response = client.chat(model=model, messages=messages)\n",
    "\n",
    "    return chat_response.choices[0].message.content"
   ]
  },
  {
   "cell_type": "markdown",
   "id": "03db3133-63d2-4cc7-b562-efce0991a143",
   "metadata": {},
   "source": [
    "## Mistral Small\n",
    "\n",
    "Good for simple tasks, fast inference, lower cost.\n",
    "- classification"
   ]
  },
  {
   "cell_type": "code",
   "execution_count": 24,
   "id": "18eaa6a5-6653-4587-8077-e409191c790b",
   "metadata": {
    "height": 166
   },
   "outputs": [],
   "source": [
    "prompt = \"\"\"\n",
    "Classify the following email to determine if it is spam or not.\n",
    "Only respond with the exact text \"Spam\" or \"Not Spam\". \n",
    "\n",
    "# Email:\n",
    "🎉 Urgent! You've Won a $1,000,000 Cash Prize! \n",
    "💰 To claim your prize, please click on the link below: \n",
    "https://bit.ly/claim-your-prize\n",
    "\"\"\""
   ]
  },
  {
   "cell_type": "code",
   "execution_count": 25,
   "id": "11cef6cd-bb24-46c5-9e83-2d81168057eb",
   "metadata": {
    "height": 30,
    "scrolled": true
   },
   "outputs": [
    {
     "data": {
      "text/plain": [
       "'Spam'"
      ]
     },
     "execution_count": 25,
     "metadata": {},
     "output_type": "execute_result"
    }
   ],
   "source": [
    "mistral(prompt, model=\"mistral-small-latest\")"
   ]
  },
  {
   "cell_type": "markdown",
   "id": "6ac31f9e-8446-417c-aec8-598e141686bc",
   "metadata": {},
   "source": [
    "## Mistral Medium\n",
    "\n",
    "Good for intermediate tasks such as language transformation.\n",
    "- Composing text based on provided context (e.g. writing a customer service email based on purchase information)."
   ]
  },
  {
   "cell_type": "code",
   "execution_count": 26,
   "id": "87ce9677-a0a2-40ef-903d-571561c0fc65",
   "metadata": {
    "height": 251
   },
   "outputs": [],
   "source": [
    "prompt = \"\"\"\n",
    "Compose a welcome email for new customers who have just made \n",
    "their first purchase with your product. \n",
    "Start by expressing your gratitude for their business, \n",
    "and then convey your excitement for having them as a customer. \n",
    "Include relevant details about their recent order. \n",
    "Sign the email with \"The Fun Shop Team\".\n",
    "\n",
    "Order details:\n",
    "- Customer name: Anna\n",
    "- Product: hat \n",
    "- Estimate date of delivery: Feb. 25, 2024\n",
    "- Return policy: 30 days\n",
    "\"\"\""
   ]
  },
  {
   "cell_type": "code",
   "execution_count": 27,
   "id": "1e0bb8a6-5be9-4a83-9413-14e154c845de",
   "metadata": {
    "height": 30
   },
   "outputs": [],
   "source": [
    "response_medium = mistral(prompt, model=\"mistral-medium-latest\")"
   ]
  },
  {
   "cell_type": "code",
   "execution_count": 28,
   "id": "6de3dada-f0e1-4dee-9a41-31cac83256b0",
   "metadata": {
    "height": 30
   },
   "outputs": [
    {
     "name": "stdout",
     "output_type": "stream",
     "text": [
      "Subject: Welcome to The Fun Shop, Anna! Your Hat is on Its Way 🎩\n",
      "\n",
      "Dear Anna,\n",
      "\n",
      "We're thrilled to welcome you to The Fun Shop family! We truly appreciate your decision to make your first purchase with us. Your support means the world to us, and we're excited to have you on board.\n",
      "\n",
      "We wanted to share some details about your recent order:\n",
      "\n",
      "Order Summary:\n",
      "- Product: 1 Fun Shop Hat\n",
      "- Estimated Delivery Date: February 25, 2024\n",
      "\n",
      "Our team is working diligently to ensure your hat reaches you as soon as possible. Once your order is shipped, you'll receive an email notification with tracking information so you can keep an eye on its journey to your doorstep.\n",
      "\n",
      "At The Fun Shop, we stand behind the quality of our products and want you to be completely satisfied with your purchase. That's why we offer a 30-day return policy. If for any reason you're not happy with your hat, simply let us know within 30 days of receiving it and we'll make it right.\n",
      "\n",
      "We're always here to help, so if you have any questions or concerns, please don't hesitate to reach out to our customer support team at [support@thefunshop.com](mailto:support@thefunshop.com).\n",
      "\n",
      "Once again, thank you for choosing The Fun Shop for your hat needs. We're looking forward to serving you and hope to see you again soon!\n",
      "\n",
      "Warm regards,\n",
      "\n",
      "The Fun Shop Team\n",
      "\n",
      "P.S. Don't forget to follow us on social media to stay up-to-date on new products, special promotions, and fun events! 🥳💕\n",
      "\n",
      "Facebook: @TheFunShop\n",
      "Instagram: @TheFunShop\n",
      "Twitter: @The_Fun_Shop\n"
     ]
    }
   ],
   "source": [
    "print(response_medium)"
   ]
  },
  {
   "cell_type": "markdown",
   "id": "9d3b2c99-c01a-4beb-8685-355f6c21ce55",
   "metadata": {},
   "source": [
    "## Mistral Large: \n",
    "\n",
    "Good for complex tasks that require advanced reasoning.\n",
    "- Math and reasoning with numbers."
   ]
  },
  {
   "cell_type": "code",
   "execution_count": 29,
   "id": "fc4c9957-48dc-46b8-bb6f-f506af1f768f",
   "metadata": {
    "height": 268
   },
   "outputs": [],
   "source": [
    "prompt = \"\"\"\n",
    "Calculate the difference in payment dates between the two \\\n",
    "customers whose payment amounts are closest to each other \\\n",
    "in the following dataset. Do not write code.\n",
    "\n",
    "# dataset: \n",
    "'{\n",
    "  \"transaction_id\":{\"0\":\"T1001\",\"1\":\"T1002\",\"2\":\"T1003\",\"3\":\"T1004\",\"4\":\"T1005\"},\n",
    "    \"customer_id\":{\"0\":\"C001\",\"1\":\"C002\",\"2\":\"C003\",\"3\":\"C002\",\"4\":\"C001\"},\n",
    "    \"payment_amount\":{\"0\":125.5,\"1\":89.99,\"2\":120.0,\"3\":54.3,\"4\":210.2},\n",
    "\"payment_date\":{\"0\":\"2021-10-05\",\"1\":\"2021-10-06\",\"2\":\"2021-10-07\",\"3\":\"2021-10-05\",\"4\":\"2021-10-08\"},\n",
    "    \"payment_status\":{\"0\":\"Paid\",\"1\":\"Unpaid\",\"2\":\"Paid\",\"3\":\"Paid\",\"4\":\"Pending\"}\n",
    "}'\n",
    "\"\"\""
   ]
  },
  {
   "cell_type": "code",
   "execution_count": 30,
   "id": "ba02ea8b-8872-4a7d-8195-6285e4b422a3",
   "metadata": {
    "height": 30
   },
   "outputs": [],
   "source": [
    "response_small = mistral(prompt, model=\"mistral-small-latest\")"
   ]
  },
  {
   "cell_type": "code",
   "execution_count": 31,
   "id": "74554e58-25a0-402d-95ad-8ada5c0cc743",
   "metadata": {
    "height": 30
   },
   "outputs": [
    {
     "name": "stdout",
     "output_type": "stream",
     "text": [
      "To determine the difference in payment dates between the two customers whose payment amounts are closest to each other, follow these steps:\n",
      "\n",
      "1. **Identify the payment amounts**: The payment amounts are 125.5, 89.99, 120.0, 54.3, and 210.2.\n",
      "\n",
      "2. **Find the closest payment amounts**: The closest payment amounts are 125.5 and 120.0.\n",
      "\n",
      "3. **Identify the corresponding customers and payment dates**:\n",
      "   - Payment amount 125.5 corresponds to customer C001 with a payment date of 2021-10-05.\n",
      "   - Payment amount 120.0 corresponds to customer C003 with a payment date of 2021-10-07.\n",
      "\n",
      "4. **Calculate the difference in payment dates**:\n",
      "   - The difference between 2021-10-07 and 2021-10-05 is 2 days.\n",
      "\n",
      "Therefore, the difference in payment dates between the two customers whose payment amounts are closest to each other is 2 days.\n"
     ]
    }
   ],
   "source": [
    "print(response_small)"
   ]
  },
  {
   "cell_type": "code",
   "execution_count": 32,
   "id": "987a0aef-67dc-4ada-82ac-4b0dc1b6b5ae",
   "metadata": {
    "height": 30
   },
   "outputs": [],
   "source": [
    "response_large = mistral(prompt, model=\"mistral-large-latest\")"
   ]
  },
  {
   "cell_type": "code",
   "execution_count": 33,
   "id": "f21a55c1-c700-4bf3-be22-5ad432dc3f10",
   "metadata": {
    "height": 30
   },
   "outputs": [
    {
     "name": "stdout",
     "output_type": "stream",
     "text": [
      "To calculate the difference in payment dates between the two customers whose payment amounts are closest to each other, follow these steps:\n",
      "\n",
      "1. **Identify Payment Amounts:**\n",
      "   - Payment amounts: 125.5, 89.99, 120.0, 54.3, 210.2\n",
      "\n",
      "2. **Find the Closest Payment Amounts:**\n",
      "   - Calculate the differences between each pair of payment amounts:\n",
      "     - |125.5 - 89.99| = 35.51\n",
      "     - |125.5 - 120.0| = 5.5\n",
      "     - |125.5 - 54.3| = 71.2\n",
      "     - |125.5 - 210.2| = 84.7\n",
      "     - |89.99 - 120.0| = 30.01\n",
      "     - |89.99 - 54.3| = 35.69\n",
      "     - |89.99 - 210.2| = 120.21\n",
      "     - |120.0 - 54.3| = 65.7\n",
      "     - |120.0 - 210.2| = 90.2\n",
      "     - |54.3 - 210.2| = 155.9\n",
      "\n",
      "   - The smallest difference is 5.5, which is between 125.5 and 120.0.\n",
      "\n",
      "3. **Identify Corresponding Payment Dates:**\n",
      "   - Payment amount 125.5 corresponds to transaction ID T1001 with payment date 2021-10-05.\n",
      "   - Payment amount 120.0 corresponds to transaction ID T1003 with payment date 2021-10-07.\n",
      "\n",
      "4. **Calculate the Difference in Payment Dates:**\n",
      "   - The payment date for 125.5 is 2021-10-05.\n",
      "   - The payment date for 120.0 is 2021-10-07.\n",
      "   - The difference between 2021-10-07 and 2021-10-05 is 2 days.\n",
      "\n",
      "Therefore, the difference in payment dates between the two customers whose payment amounts are closest to each other is **2 days**.\n"
     ]
    }
   ],
   "source": [
    "print(response_large)"
   ]
  },
  {
   "cell_type": "markdown",
   "id": "a15be44d-ecb4-47f6-bed5-5b08c6bc391a",
   "metadata": {},
   "source": [
    "## Expense reporting task"
   ]
  },
  {
   "cell_type": "code",
   "execution_count": 34,
   "id": "f7c1deb9-37f4-4182-b43c-3bad2637598c",
   "metadata": {
    "height": 336
   },
   "outputs": [],
   "source": [
    "transactions = \"\"\"\n",
    "McDonald's: 8.40\n",
    "Safeway: 10.30\n",
    "Carrefour: 15.00\n",
    "Toys R Us: 20.50\n",
    "Panda Express: 10.20\n",
    "Beanie Baby Outlet: 25.60\n",
    "World Food Wraps: 22.70\n",
    "Stuffed Animals Shop: 45.10\n",
    "Sanrio Store: 85.70\n",
    "\"\"\"\n",
    "\n",
    "prompt = f\"\"\"\n",
    "Given the purchase details, how much did I spend on each category:\n",
    "1) restaurants\n",
    "2) groceries\n",
    "3) stuffed animals and props\n",
    "{transactions}\n",
    "\"\"\""
   ]
  },
  {
   "cell_type": "code",
   "execution_count": 35,
   "id": "c534c567-cd20-4abb-adbc-cc9fe919c2f8",
   "metadata": {
    "height": 47
   },
   "outputs": [
    {
     "name": "stdout",
     "output_type": "stream",
     "text": [
      "To determine how much you spent on each category, we need to categorize each purchase accordingly. Here is the breakdown:\n",
      "\n",
      "1. **Restaurants**:\n",
      "   - McDonald's: $8.40\n",
      "   - Panda Express: $10.20\n",
      "   - World Food Wraps: $22.70\n",
      "\n",
      "   Total spent on restaurants: $8.40 + $10.20 + $22.70 = $41.30\n",
      "\n",
      "2. **Groceries**:\n",
      "   - Safeway: $10.30\n",
      "   - Carrefour: $15.00\n",
      "\n",
      "   Total spent on groceries: $10.30 + $15.00 = $25.30\n",
      "\n",
      "3. **Stuffed Animals and Props**:\n",
      "   - Toys R Us: $20.50\n",
      "   - Beanie Baby Outlet: $25.60\n",
      "   - Stuffed Animals Shop: $45.10\n",
      "   - Sanrio Store: $85.70\n",
      "\n",
      "   Total spent on stuffed animals and props: $20.50 + $25.60 + $45.10 + $85.70 = $176.90\n",
      "\n",
      "So, the total amounts spent on each category are:\n",
      "1. Restaurants: $41.30\n",
      "2. Groceries: $25.30\n",
      "3. Stuffed Animals and Props: $176.90\n"
     ]
    }
   ],
   "source": [
    "response_small = mistral(prompt, model=\"mistral-small-latest\")\n",
    "print(response_small)"
   ]
  },
  {
   "cell_type": "code",
   "execution_count": 36,
   "id": "47960a78-7689-47ee-adee-6c8412d5477b",
   "metadata": {
    "height": 47
   },
   "outputs": [
    {
     "name": "stdout",
     "output_type": "stream",
     "text": [
      "To determine how much you spent on each category, let's categorize the purchases and sum them up:\n",
      "\n",
      "### 1) Restaurants\n",
      "- McDonald's: $8.40\n",
      "- Panda Express: $10.20\n",
      "- World Food Wraps: $22.70\n",
      "\n",
      "**Total for Restaurants:** $8.40 + $10.20 + $22.70 = $41.30\n",
      "\n",
      "### 2) Groceries\n",
      "- Safeway: $10.30\n",
      "- Carrefour: $15.00\n",
      "\n",
      "**Total for Groceries:** $10.30 + $15.00 = $25.30\n",
      "\n",
      "### 3) Stuffed Animals and Props\n",
      "- Toys R Us: $20.50\n",
      "- Beanie Baby Outlet: $25.60\n",
      "- Stuffed Animals Shop: $45.10\n",
      "- Sanrio Store: $85.70\n",
      "\n",
      "**Total for Stuffed Animals and Props:** $20.50 + $25.60 + $45.10 + $85.70 = $176.90\n",
      "\n",
      "So, you spent:\n",
      "- **$41.30** on restaurants\n",
      "- **$25.30** on groceries\n",
      "- **$176.90** on stuffed animals and props\n"
     ]
    }
   ],
   "source": [
    "response_large = mistral(prompt, model=\"mistral-large-latest\")\n",
    "print(response_large)"
   ]
  },
  {
   "cell_type": "markdown",
   "id": "f90d6068-61b3-4490-aeb4-0be67ba9fd1b",
   "metadata": {},
   "source": [
    "## Writing and checking code"
   ]
  },
  {
   "cell_type": "code",
   "execution_count": 37,
   "id": "27945975-d2bc-40b9-9a59-48b10fe4da4b",
   "metadata": {
    "height": 251
   },
   "outputs": [],
   "source": [
    "user_message = \"\"\"\n",
    "Given an array of integers nums and an integer target, return indices of the two numbers such that they add up to target.\n",
    "\n",
    "You may assume that each input would have exactly one solution, and you may not use the same element twice.\n",
    "\n",
    "You can return the answer in any order.\n",
    "\n",
    "Your code should pass these tests:\n",
    "\n",
    "assert twoSum([2,7,11,15], 9) == [0,1]\n",
    "assert twoSum([3,2,4], 6) == [1,2]\n",
    "assert twoSum([3,3], 6) == [0,1]\n",
    "\"\"\""
   ]
  },
  {
   "cell_type": "code",
   "execution_count": 38,
   "id": "8e00a7bc-069a-43f9-bb02-e33a5d3dcc2f",
   "metadata": {
    "height": 30
   },
   "outputs": [
    {
     "name": "stdout",
     "output_type": "stream",
     "text": [
      "To solve the problem of finding two indices in an array such that the corresponding elements add up to a given target, we can use a hash map (dictionary in Python) to store the potential complements of each number. This approach allows us to solve the problem in linear time, \\(O(n)\\), which is efficient.\n",
      "\n",
      "Here’s the step-by-step approach:\n",
      "\n",
      "1. Create an empty dictionary to store the numbers and their indices as we iterate through the array.\n",
      "2. Iterate through the array using an index.\n",
      "3. For each number in the array, calculate the complement that, together with the current number, adds up to the target.\n",
      "4. Check if the complement is already in the dictionary:\n",
      "   - If it is, return the current index and the index of the complement.\n",
      "   - If it is not, store the current number and its index in the dictionary.\n",
      "5. If the loop completes without finding a solution, return an appropriate message (though the problem guarantees a solution).\n",
      "\n",
      "Here is the implementation in Python:\n",
      "\n",
      "```python\n",
      "def twoSum(nums, target):\n",
      "    num_to_index = {}\n",
      "    for i, num in enumerate(nums):\n",
      "        complement = target - num\n",
      "        if complement in num_to_index:\n",
      "            return [num_to_index[complement], i]\n",
      "        num_to_index[num] = i\n",
      "    return []\n",
      "\n",
      "# Test cases\n",
      "assert twoSum([2,7,11,15], 9) == [0,1]\n",
      "assert twoSum([3,2,4], 6) == [1,2]\n",
      "assert twoSum([3,3], 6) == [0,1]\n",
      "\n",
      "print(\"All test cases pass\")\n",
      "```\n",
      "\n",
      "Explanation of the code:\n",
      "- We use a dictionary `num_to_index` to keep track of the numbers we have seen so far and their corresponding indices.\n",
      "- For each number in the array, we calculate its complement (`target - num`).\n",
      "- We check if this complement exists in the dictionary. If it does, we return the current index and the index of the complement.\n",
      "- If the complement does not exist in the dictionary, we add the current number and its index to the dictionary.\n",
      "- The solution is guaranteed to exist, so we do not need to handle the case where no solution is found.\n",
      "\n",
      "This approach ensures that we only traverse the list once, making it efficient with a time complexity of \\(O(n)\\).\n"
     ]
    }
   ],
   "source": [
    "print(mistral(user_message, model=\"mistral-large-latest\"))"
   ]
  },
  {
   "cell_type": "markdown",
   "id": "f8e007ef-17fb-450a-85d5-f456d06352e1",
   "metadata": {},
   "source": [
    "### Try out the code that the model provided\n",
    "- Copy the code that the model provided and try running it!\n",
    "\n",
    "Here is the code that was output at the time of filming:\n",
    "```Python\n",
    "def twoSum(nums, target):\n",
    "    seen = {}\n",
    "    for i, num in enumerate(nums):\n",
    "        complement = target - num\n",
    "        if complement in seen:\n",
    "            return [seen[complement], i]\n",
    "        seen[num] = i\n",
    "```\n",
    "- Also try running the assert statements in the original prompt\n",
    "```Python\n",
    "assert twoSum([2,7,11,15], 9) == [0,1]\n",
    "assert twoSum([3,2,4], 6) == [1,2]\n",
    "assert twoSum([3,3], 6) == [0,1]\n",
    "```"
   ]
  },
  {
   "cell_type": "code",
   "execution_count": null,
   "id": "fcd58acf-fa92-431d-a08a-ce05c1e21003",
   "metadata": {
    "height": 30
   },
   "outputs": [],
   "source": []
  },
  {
   "cell_type": "code",
   "execution_count": null,
   "id": "49638589-88c6-439c-8192-65c511522fc1",
   "metadata": {
    "height": 30
   },
   "outputs": [],
   "source": []
  },
  {
   "cell_type": "markdown",
   "id": "3db8aa2a-aa1f-45f1-b4a4-d8eedc927677",
   "metadata": {},
   "source": [
    "## Natively Fluent in English, French, Spanish, German, and Italian\n",
    "- This means that you can use Mistral models for more than translating from one language to another.\n",
    "- If you are a native Spanish speaker, for instance, you can communicate with Mistral models in Spanish for any of your tasks."
   ]
  },
  {
   "cell_type": "code",
   "execution_count": 39,
   "id": "3cbad716-8da8-4c00-8eb1-889b69567986",
   "metadata": {
    "height": 64
   },
   "outputs": [],
   "source": [
    "user_message = \"\"\"\n",
    "Lequel est le plus lourd une livre de fer ou un kilogramme de plume\n",
    "\"\"\""
   ]
  },
  {
   "cell_type": "code",
   "execution_count": 40,
   "id": "72722d49-b12b-4334-bc1c-318874c57959",
   "metadata": {
    "height": 30,
    "scrolled": true
   },
   "outputs": [
    {
     "name": "stdout",
     "output_type": "stream",
     "text": [
      "Pour déterminer lequel est le plus lourd entre une livre de fer et un kilogramme de plume, il faut d'abord convertir les unités de mesure pour les comparer dans la même unité.\n",
      "\n",
      "1 livre (lb) est équivalent à environ 0,453592 kilogrammes (kg).\n",
      "\n",
      "Donc, une livre de fer pèse environ 0,453592 kg.\n",
      "\n",
      "Un kilogramme de plume pèse exactement 1 kg.\n",
      "\n",
      "En comparant ces deux valeurs :\n",
      "- Une livre de fer pèse 0,453592 kg.\n",
      "- Un kilogramme de plume pèse 1 kg.\n",
      "\n",
      "Par conséquent, un kilogramme de plume est plus lourd qu'une livre de fer.\n"
     ]
    }
   ],
   "source": [
    "print(mistral(user_message, model=\"mistral-large-latest\"))"
   ]
  },
  {
   "cell_type": "code",
   "execution_count": 41,
   "id": "12ce2f2a",
   "metadata": {
    "height": 98
   },
   "outputs": [
    {
     "name": "stdout",
     "output_type": "stream",
     "text": [
      "১ কেজী (কিলোগ্রাম) লোহা এবং ১ কেজী তুলার ওজন সমান, কারণ ওজনের একক সমান। তবে ঘনত্বের কারণে একই ওজনের লোহা এবং তুলার আয়তন ভিন্ন হবে। লোহার ঘনত্ব তুলার ঘনত্বের চেয়ে বেশি, তাই একই ওজনের লোহার আয়তন তুলার চেয়ে কম হবে।\n",
      "\n",
      "সুতরাং, ওজনের দিক দিয়ে ১ কেজী লোহা এবং ১ কেজী তুলা সমান ভারী, কিন্তু আয়তনের দিক দিয়ে লোহার আয়তন তুলার চেয়ে কম হবে।\n"
     ]
    }
   ],
   "source": [
    "user_message = \"\"\"\n",
    "১ কেজী লোহা বেশি ভারী নাকি ১ কেজী তুলা বেশি ভারী?\n",
    "\"\"\"\n",
    "\n",
    "print(mistral(user_message, model=\"mistral-large-latest\"))"
   ]
  },
  {
   "cell_type": "code",
   "execution_count": null,
   "id": "f73570f9",
   "metadata": {
    "height": 30
   },
   "outputs": [],
   "source": []
  },
  {
   "cell_type": "markdown",
   "id": "bd4f1e52-49d5-4d02-b85c-5bce23896a20",
   "metadata": {},
   "source": [
    "### Try it out for yourself\n",
    "- Try communicating with the Mistral Large model in Spanish\n",
    "  - (If you need help, you can first translate a prompt from English to Spanish, and then prompt the model in Spanish)."
   ]
  },
  {
   "cell_type": "markdown",
   "id": "dc301515-157c-450b-828e-554ee6760809",
   "metadata": {},
   "source": [
    "## List of Mistral models that you can call:\n",
    "\n",
    "You can also call the two open source mistral models via API calls.\n",
    "Here is the list of models that you can try:\n",
    "```\n",
    "open-mistral-7b\n",
    "open-mixtral-8x7b\n",
    "open-mixtral-8x22b\n",
    "mistral-small-latest\n",
    "mistral-medium-latest\n",
    "mistral-large-latest\n",
    "```\n",
    "\n",
    "For example:\n",
    "```Python\n",
    "mistral(prompt, model=\"open-mixtral-8x22b\")\n",
    "```\n",
    "\n",
    "Note that we just released the `open-mixtral-8x22b` model. Check out our [release blog](https://mistral.ai/news/mixtral-8x22b/) for details. "
   ]
  },
  {
   "cell_type": "code",
   "execution_count": 42,
   "id": "6e316a8f-57fc-4774-980e-118c01239636",
   "metadata": {
    "height": 98
   },
   "outputs": [
    {
     "name": "stdout",
     "output_type": "stream",
     "text": [
      "১ কেজী লোহা এবং ১ কেজী তুলা দুইটি ভার পরিমাপের উপর ভিত্তি করে তুলনা করলে, ১ কেজী লোহা বেশি ভারী। কেজি একটি ভারের পরিমাপের ইউনিট, কিন্তু লোহা এবং তুলা দুইটি ভিন্ন ধরণের ক্ষমতা রয়েছে। লোহা একটি উচ্চ ধাতবতার উপাদান এবং তুলা একটি ঝামেলা উপাদান। তাই ১ কেজী লোহা ১ কেজী তুলার চেয়ে বেশি ভারী হবে।\n"
     ]
    }
   ],
   "source": [
    "user_message = \"\"\"\n",
    "১ কেজী লোহা বেশি ভারী নাকি ১ কেজী তুলা বেশি ভারী?\n",
    "\"\"\"\n",
    "\n",
    "print(mistral(user_message, model=\"open-mixtral-8x22b\"))"
   ]
  },
  {
   "cell_type": "code",
   "execution_count": 43,
   "id": "f2209456",
   "metadata": {
    "height": 120
   },
   "outputs": [
    {
     "name": "stdout",
     "output_type": "stream",
     "text": [
      "এই 질문 উপরথেকে তোলা ও লোহা কেজি দুই ধরন ছেড়ে দিয়ে উত্তর দিতে হবে। তারভাড়ে ধরণ ছেড়ে দিয়ে উত্তর দিবো:\n",
      "\n",
      "1. ১ কেজী লোহা: ১ কেজী লোহা ইউনিট ছাড়া ৩ ফুট ও ৪ ইউনিট বার থেকে ১ ফুট ৩ ইউনিট থেকে থাকে। এখানে এক কেজি লোহা ১ ফুট ৩ ইউনিট থেকে ১ ফুট ০ ইউনিট থেকে ১ ফুট ০ ইউনিট ভারী নাও।\n",
      "\n",
      "2. ১ কেজী তুলা: ১ কেজী তুলা ৩ ফুট ও ৩ ইউনিট থেকে ১ ফুট ০ ইউনিট থেকে ১ ফুট ০ ইউনিট থাকে। এখানে এক কেজি তুলা ১ ফুট ০ ইউনিট থেকে ১ ফুট ০ ইউনিট ভারী নাও।\n",
      "\n",
      "ধরণ ছেড়ে দিতে হলে ১ কেজী লোহা ১ ফুট ৩ ইউনিট থেকে ১ ফুট ০ ইউনিট থেকে ১ ফুট ০ ইউনিট ভারী থেকে ১ ফুট ০ ইউনিট থাকে এবং ১ কেজী তুলা ১ ফুট ০ ইউনিট থেকে ১ ফুট ০ ইউনিট থেকে ১ ফুট ০ ইউনিট ভারী থেকে ১ ফুট ০ ইউনিট থাকে। তাই ১ কেজী লোহা ও ১ কেজী তুলা উপরথেকে ভারী নাও।\n"
     ]
    }
   ],
   "source": [
    "user_message = \"\"\"\n",
    "১ কেজী লোহা বেশি ভারী নাকি ১ কেজী তুলা বেশি ভারী?\n",
    "\"\"\"\n",
    "\n",
    "print(mistral(user_message, model=\"open-mistral-7b\"))"
   ]
  },
  {
   "cell_type": "code",
   "execution_count": null,
   "id": "1f4ffd66",
   "metadata": {
    "height": 31
   },
   "outputs": [],
   "source": []
  }
 ],
 "metadata": {
  "kernelspec": {
   "display_name": "Python 3 (ipykernel)",
   "language": "python",
   "name": "python3"
  },
  "language_info": {
   "codemirror_mode": {
    "name": "ipython",
    "version": 3
   },
   "file_extension": ".py",
   "mimetype": "text/x-python",
   "name": "python",
   "nbconvert_exporter": "python",
   "pygments_lexer": "ipython3",
   "version": "3.11.9"
  }
 },
 "nbformat": 4,
 "nbformat_minor": 5
}
